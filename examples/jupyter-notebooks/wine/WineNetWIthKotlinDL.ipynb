{
 "cells": [
  {
   "cell_type": "markdown",
   "metadata": {},
   "source": [
    "# Predict wine quality"
   ]
  },
  {
   "cell_type": "markdown",
   "metadata": {},
   "source": [
    "Use the latest versions of DataFrame and KotlinDL libraries from [version repository](https://github.com/Kotlin/kotlin-jupyter-libraries)."
   ]
  },
  {
   "cell_type": "code",
   "execution_count": 1,
   "metadata": {},
   "outputs": [
    {
     "data": {
      "text/html": [
       "            <div id=\"kotlin_out_0\"/>\n",
       "            <script type=\"text/javascript\">\n",
       "                            if(!window.kotlinQueues) {\n",
       "                window.kotlinQueues = {};\n",
       "            }\n",
       "            if(!window.kotlinQueues[\"DataFrame\"]) {\n",
       "                var resQueue = [];\n",
       "                window.kotlinQueues[\"DataFrame\"] = resQueue;\n",
       "                window[\"call_DataFrame\"] = function(f) {\n",
       "                    resQueue.push(f);\n",
       "                }\n",
       "            }\n",
       "            (function (){\n",
       "                var modifiers = [(function(script) {\n",
       "    script.src = \"https://cdn.jsdelivr.net/gh/Kotlin/dataframe@8a649bfc42e1760ed6c5ff8808e54f9a3ce5f6c1/src/main/resources/init.js\"\n",
       "    script.type = \"text/javascript\";\n",
       "})];\n",
       "                var e = document.getElementById(\"kotlin_out_0\");\n",
       "                modifiers.forEach(function (gen) {\n",
       "                    var script = document.createElement(\"script\");\n",
       "                    gen(script)\n",
       "                    script.addEventListener(\"load\", function() {\n",
       "                        window[\"call_DataFrame\"] = function(f) {f();};\n",
       "                        window.kotlinQueues[\"DataFrame\"].forEach(function(f) {f();});\n",
       "                        window.kotlinQueues[\"DataFrame\"] = [];\n",
       "                    }, false);\n",
       "                    script.addEventListener(\"error\", function() {\n",
       "                        window[\"call_DataFrame\"] = function(f) {};\n",
       "                        window.kotlinQueues[\"DataFrame\"] = [];\n",
       "                        var div = document.createElement(\"div\");\n",
       "                        div.style.color = 'darkred';\n",
       "                        div.textContent = 'Error loading resource DataFrame';\n",
       "                        document.getElementById(\"kotlin_out_0\").appendChild(div);\n",
       "                    }, false);\n",
       "                    \n",
       "                    e.appendChild(script);\n",
       "                });\n",
       "            })();\n",
       "            </script>"
      ]
     },
     "metadata": {},
     "output_type": "display_data"
    },
    {
     "data": {
      "text/html": [
       "                <style>\n",
       "                table.dataframe {\n",
       "    font-family: \"Helvetica Neue\", Helvetica, Arial, sans-serif;\n",
       "    font-size: 12px;\n",
       "}\n",
       "table.dataframe a {\n",
       "    cursor: pointer;\n",
       "    color: #296eaa;\n",
       "    text-decoration: none;\n",
       "}\n",
       "table.dataframe a:hover {\n",
       "    color: #1a466c;\n",
       "    text-decoration: underline;\n",
       "}\n",
       "table.dataframe tr:nth-child(odd) {\n",
       "    background: rgb(245, 245, 245);\n",
       "}\n",
       "table.dataframe tr:nth-child(even) {\n",
       "    background: #FFF\n",
       "}\n",
       "table.dataframe tr:hover {\n",
       "    background: rgba(66, 165, 245, 0.2);\n",
       "}\n",
       "th.complex {\n",
       "    background-color: white;\n",
       "    border: 1px solid #ffffff;\n",
       "}\n",
       "table.dataframe th {\n",
       "    background-color: white;\n",
       "    padding: 6px;\n",
       "    border: 1px solid transparent;\n",
       "    text-align: left;\n",
       "}\n",
       "\n",
       "table.dataframe td {\n",
       "    padding: 6px;\n",
       "    border: 1px solid transparent;\n",
       "    text-align: left;\n",
       "    vertical-align: top;\n",
       "}\n",
       "table.dataframe th.bottomBorder {\n",
       "    border-bottom-color: black;\n",
       "}\n",
       "table.dataframe {\n",
       "    border: none;\n",
       "    border-collapse: collapse;\n",
       "}\n",
       "table.dataframe .leftBorder {\n",
       "    border-left-color: #aaa;\n",
       "}\n",
       "table.dataframe .rightBorder {\n",
       "    border-right-color: #aaa;\n",
       "}\n",
       "table.dataframe .rightAlign {\n",
       "    text-align: right;\n",
       "}\n",
       "table.dataframe .expanderSvg {\n",
       "    width: 8px;\n",
       "    height: 8px;\n",
       "    margin-right: 3px;\n",
       "}\n",
       "table.dataframe .expander {\n",
       "    display: flex;\n",
       "    align-items: center;\n",
       "}\n",
       "\n",
       "                </style>"
      ]
     },
     "metadata": {},
     "output_type": "display_data"
    },
    {
     "data": {
      "text/html": [
       "                <style>\n",
       "                table.dataframe .null {\n",
       "    color: #b3b3cc;\n",
       "}\n",
       "table.dataframe .structural {\n",
       "    color: #737373;\n",
       "    font-weight: bold;\n",
       "}\n",
       "table.dataframe .numbers {\n",
       "    color: black;\n",
       "}\n",
       "table.dataframe .dataFrameCaption {\n",
       "    font-weight: bold;\n",
       "}\n",
       "table.dataframe td:hover > .formatted .structural {\n",
       "    color: black;\n",
       "}\n",
       "table.dataframe td:hover > .formatted .null {\n",
       "    color: black;\n",
       "}\n",
       "\n",
       "                </style>"
      ]
     },
     "metadata": {},
     "output_type": "display_data"
    }
   ],
   "source": [
    "%useLatestDescriptors\n",
    "%use dataframe(0.8.0-dev-712), kotlin-dl"
   ]
  },
  {
   "cell_type": "markdown",
   "metadata": {},
   "source": [
    "Read the dataframe from CSV and print the first few lines of it"
   ]
  },
  {
   "cell_type": "code",
   "execution_count": 2,
   "metadata": {},
   "outputs": [
    {
     "data": {
      "text/html": [
       "        <html>\n",
       "        <head>\n",
       "            <style type=\"text/css\">\n",
       "                \n",
       "\n",
       "            </style>\n",
       "        </head>\n",
       "        <body>\n",
       "            <table class=\"dataframe\" id=\"df_1577058304\"/>\n",
       "\n",
       "<p>DataFrame [5 x 12]</p>\n",
       "        </body>\n",
       "        <script>\n",
       "            /*<!--*/\n",
       "call_DataFrame(function() { DataFrame.addTable({ cols: [{ name: \"fixed acidity\", children: [], rightAlign: true, values: [\"<span class=\\\"formatted\\\" title=\\\"\\\"><span class=\\\"numbers\\\">7.4</span></span>\",\"<span class=\\\"formatted\\\" title=\\\"\\\"><span class=\\\"numbers\\\">7.8</span></span>\",\"<span class=\\\"formatted\\\" title=\\\"\\\"><span class=\\\"numbers\\\">7.8</span></span>\",\"<span class=\\\"formatted\\\" title=\\\"\\\"><span class=\\\"numbers\\\">11.2</span></span>\",\"<span class=\\\"formatted\\\" title=\\\"\\\"><span class=\\\"numbers\\\">7.4</span></span>\"] }, \n",
       "{ name: \"volatile acidity\", children: [], rightAlign: true, values: [\"<span class=\\\"formatted\\\" title=\\\"\\\"><span class=\\\"numbers\\\">0.70</span></span>\",\"<span class=\\\"formatted\\\" title=\\\"\\\"><span class=\\\"numbers\\\">0.88</span></span>\",\"<span class=\\\"formatted\\\" title=\\\"\\\"><span class=\\\"numbers\\\">0.76</span></span>\",\"<span class=\\\"formatted\\\" title=\\\"\\\"><span class=\\\"numbers\\\">0.28</span></span>\",\"<span class=\\\"formatted\\\" title=\\\"\\\"><span class=\\\"numbers\\\">0.70</span></span>\"] }, \n",
       "{ name: \"citric acid\", children: [], rightAlign: true, values: [\"<span class=\\\"formatted\\\" title=\\\"\\\"><span class=\\\"numbers\\\">0.00</span></span>\",\"<span class=\\\"formatted\\\" title=\\\"\\\"><span class=\\\"numbers\\\">0.00</span></span>\",\"<span class=\\\"formatted\\\" title=\\\"\\\"><span class=\\\"numbers\\\">0.04</span></span>\",\"<span class=\\\"formatted\\\" title=\\\"\\\"><span class=\\\"numbers\\\">0.56</span></span>\",\"<span class=\\\"formatted\\\" title=\\\"\\\"><span class=\\\"numbers\\\">0.00</span></span>\"] }, \n",
       "{ name: \"residual sugar\", children: [], rightAlign: true, values: [\"<span class=\\\"formatted\\\" title=\\\"\\\"><span class=\\\"numbers\\\">1.9</span></span>\",\"<span class=\\\"formatted\\\" title=\\\"\\\"><span class=\\\"numbers\\\">2.6</span></span>\",\"<span class=\\\"formatted\\\" title=\\\"\\\"><span class=\\\"numbers\\\">2.3</span></span>\",\"<span class=\\\"formatted\\\" title=\\\"\\\"><span class=\\\"numbers\\\">1.9</span></span>\",\"<span class=\\\"formatted\\\" title=\\\"\\\"><span class=\\\"numbers\\\">1.9</span></span>\"] }, \n",
       "{ name: \"chlorides\", children: [], rightAlign: true, values: [\"<span class=\\\"formatted\\\" title=\\\"\\\"><span class=\\\"numbers\\\">0.076</span></span>\",\"<span class=\\\"formatted\\\" title=\\\"\\\"><span class=\\\"numbers\\\">0.098</span></span>\",\"<span class=\\\"formatted\\\" title=\\\"\\\"><span class=\\\"numbers\\\">0.092</span></span>\",\"<span class=\\\"formatted\\\" title=\\\"\\\"><span class=\\\"numbers\\\">0.075</span></span>\",\"<span class=\\\"formatted\\\" title=\\\"\\\"><span class=\\\"numbers\\\">0.076</span></span>\"] }, \n",
       "{ name: \"free sulfur dioxide\", children: [], rightAlign: true, values: [\"<span class=\\\"formatted\\\" title=\\\"\\\"><span class=\\\"numbers\\\">11.0</span></span>\",\"<span class=\\\"formatted\\\" title=\\\"\\\"><span class=\\\"numbers\\\">25.0</span></span>\",\"<span class=\\\"formatted\\\" title=\\\"\\\"><span class=\\\"numbers\\\">15.0</span></span>\",\"<span class=\\\"formatted\\\" title=\\\"\\\"><span class=\\\"numbers\\\">17.0</span></span>\",\"<span class=\\\"formatted\\\" title=\\\"\\\"><span class=\\\"numbers\\\">11.0</span></span>\"] }, \n",
       "{ name: \"total sulfur dioxide\", children: [], rightAlign: true, values: [\"<span class=\\\"formatted\\\" title=\\\"\\\"><span class=\\\"numbers\\\">34.0</span></span>\",\"<span class=\\\"formatted\\\" title=\\\"\\\"><span class=\\\"numbers\\\">67.0</span></span>\",\"<span class=\\\"formatted\\\" title=\\\"\\\"><span class=\\\"numbers\\\">54.0</span></span>\",\"<span class=\\\"formatted\\\" title=\\\"\\\"><span class=\\\"numbers\\\">60.0</span></span>\",\"<span class=\\\"formatted\\\" title=\\\"\\\"><span class=\\\"numbers\\\">34.0</span></span>\"] }, \n",
       "{ name: \"density\", children: [], rightAlign: true, values: [\"<span class=\\\"formatted\\\" title=\\\"\\\"><span class=\\\"numbers\\\">0.9978</span></span>\",\"<span class=\\\"formatted\\\" title=\\\"\\\"><span class=\\\"numbers\\\">0.9968</span></span>\",\"<span class=\\\"formatted\\\" title=\\\"\\\"><span class=\\\"numbers\\\">0.9970</span></span>\",\"<span class=\\\"formatted\\\" title=\\\"\\\"><span class=\\\"numbers\\\">0.9980</span></span>\",\"<span class=\\\"formatted\\\" title=\\\"\\\"><span class=\\\"numbers\\\">0.9978</span></span>\"] }, \n",
       "{ name: \"pH\", children: [], rightAlign: true, values: [\"<span class=\\\"formatted\\\" title=\\\"\\\"><span class=\\\"numbers\\\">3.51</span></span>\",\"<span class=\\\"formatted\\\" title=\\\"\\\"><span class=\\\"numbers\\\">3.20</span></span>\",\"<span class=\\\"formatted\\\" title=\\\"\\\"><span class=\\\"numbers\\\">3.26</span></span>\",\"<span class=\\\"formatted\\\" title=\\\"\\\"><span class=\\\"numbers\\\">3.16</span></span>\",\"<span class=\\\"formatted\\\" title=\\\"\\\"><span class=\\\"numbers\\\">3.51</span></span>\"] }, \n",
       "{ name: \"sulphates\", children: [], rightAlign: true, values: [\"<span class=\\\"formatted\\\" title=\\\"\\\"><span class=\\\"numbers\\\">0.56</span></span>\",\"<span class=\\\"formatted\\\" title=\\\"\\\"><span class=\\\"numbers\\\">0.68</span></span>\",\"<span class=\\\"formatted\\\" title=\\\"\\\"><span class=\\\"numbers\\\">0.65</span></span>\",\"<span class=\\\"formatted\\\" title=\\\"\\\"><span class=\\\"numbers\\\">0.58</span></span>\",\"<span class=\\\"formatted\\\" title=\\\"\\\"><span class=\\\"numbers\\\">0.56</span></span>\"] }, \n",
       "{ name: \"alcohol\", children: [], rightAlign: true, values: [\"<span class=\\\"formatted\\\" title=\\\"\\\"><span class=\\\"numbers\\\">9.4</span></span>\",\"<span class=\\\"formatted\\\" title=\\\"\\\"><span class=\\\"numbers\\\">9.8</span></span>\",\"<span class=\\\"formatted\\\" title=\\\"\\\"><span class=\\\"numbers\\\">9.8</span></span>\",\"<span class=\\\"formatted\\\" title=\\\"\\\"><span class=\\\"numbers\\\">9.8</span></span>\",\"<span class=\\\"formatted\\\" title=\\\"\\\"><span class=\\\"numbers\\\">9.4</span></span>\"] }, \n",
       "{ name: \"quality\", children: [], rightAlign: true, values: [\"<span class=\\\"formatted\\\" title=\\\"\\\"><span class=\\\"numbers\\\">5</span></span>\",\"<span class=\\\"formatted\\\" title=\\\"\\\"><span class=\\\"numbers\\\">5</span></span>\",\"<span class=\\\"formatted\\\" title=\\\"\\\"><span class=\\\"numbers\\\">5</span></span>\",\"<span class=\\\"formatted\\\" title=\\\"\\\"><span class=\\\"numbers\\\">6</span></span>\",\"<span class=\\\"formatted\\\" title=\\\"\\\"><span class=\\\"numbers\\\">5</span></span>\"] }, \n",
       "], id: 1577058304, rootId: 1577058304 } ) });\n",
       "/*-->*/\n",
       "\n",
       "call_DataFrame(function() { DataFrame.renderTable(1577058304) });\n",
       "\n",
       "\n",
       "        </script>\n",
       "        </html>"
      ]
     },
     "execution_count": 2,
     "metadata": {},
     "output_type": "execute_result"
    }
   ],
   "source": [
    "val raw_df = DataFrame.readCSV(fileOrUrl = \"winequality-red.csv\", delimiter = ';')\n",
    "raw_df.head()"
   ]
  },
  {
   "cell_type": "code",
   "execution_count": 39,
   "metadata": {},
   "outputs": [
    {
     "data": {
      "text/html": [
       "        <html>\n",
       "        <head>\n",
       "            <style type=\"text/css\">\n",
       "                \n",
       "\n",
       "            </style>\n",
       "        </head>\n",
       "        <body>\n",
       "            <table class=\"dataframe\" id=\"df_1577058319\"/>\n",
       "\n",
       "<p>DataFrame [12 x 13]</p>\n",
       "        </body>\n",
       "        <script>\n",
       "            /*<!--*/\n",
       "call_DataFrame(function() { DataFrame.addTable({ cols: [{ name: \"column\", children: [], rightAlign: false, values: [\"fixed acidity\",\"volatile acidity\",\"citric acid\",\"residual sugar\",\"chlorides\",\"free sulfur dioxide\",\"total sulfur dioxide\",\"density\",\"pH\",\"sulphates\",\"alcohol\",\"quality\"] }, \n",
       "{ name: \"fixed acidity\", children: [], rightAlign: true, values: [{ style: \"background-color:#00ff00\", value: \"<span class=\\\"formatted\\\" title=\\\"\\\"><span class=\\\"numbers\\\">1.000000</span></span>\"},{ style: \"background-color:#a05e00\", value: \"<span class=\\\"formatted\\\" title=\\\"\\\"><span class=\\\"numbers\\\">-0.256131</span></span>\"},{ style: \"background-color:#29d500\", value: \"<span class=\\\"formatted\\\" title=\\\"\\\"><span class=\\\"numbers\\\">0.671703</span></span>\"},{ style: \"background-color:#708e00\", value: \"<span class=\\\"formatted\\\" title=\\\"\\\"><span class=\\\"numbers\\\">0.114777</span></span>\"},{ style: \"background-color:#738b00\", value: \"<span class=\\\"formatted\\\" title=\\\"\\\"><span class=\\\"numbers\\\">0.093705</span></span>\"},{ style: \"background-color:#936b00\", value: \"<span class=\\\"formatted\\\" title=\\\"\\\"><span class=\\\"numbers\\\">-0.153794</span></span>\"},{ style: \"background-color:#8d7100\", value: \"<span class=\\\"formatted\\\" title=\\\"\\\"><span class=\\\"numbers\\\">-0.113181</span></span>\"},{ style: \"background-color:#2ad400\", value: \"<span class=\\\"formatted\\\" title=\\\"\\\"><span class=\\\"numbers\\\">0.668047</span></span>\"},{ style: \"background-color:#d62800\", value: \"<span class=\\\"formatted\\\" title=\\\"\\\"><span class=\\\"numbers\\\">-0.682978</span></span>\"},{ style: \"background-color:#689600\", value: \"<span class=\\\"formatted\\\" title=\\\"\\\"><span class=\\\"numbers\\\">0.183006</span></span>\"},{ style: \"background-color:#877700\", value: \"<span class=\\\"formatted\\\" title=\\\"\\\"><span class=\\\"numbers\\\">-0.061668</span></span>\"},{ style: \"background-color:#6f8f00\", value: \"<span class=\\\"formatted\\\" title=\\\"\\\"><span class=\\\"numbers\\\">0.124052</span></span>\"}] }, \n",
       "{ name: \"volatile acidity\", children: [], rightAlign: true, values: [{ style: \"background-color:#a05e00\", value: \"<span class=\\\"formatted\\\" title=\\\"\\\"><span class=\\\"numbers\\\">-0.256131</span></span>\"},{ style: \"background-color:#00ff00\", value: \"<span class=\\\"formatted\\\" title=\\\"\\\"><span class=\\\"numbers\\\">1.000000</span></span>\"},{ style: \"background-color:#c53900\", value: \"<span class=\\\"formatted\\\" title=\\\"\\\"><span class=\\\"numbers\\\">-0.552496</span></span>\"},{ style: \"background-color:#7f7f00\", value: \"<span class=\\\"formatted\\\" title=\\\"\\\"><span class=\\\"numbers\\\">0.001918</span></span>\"},{ style: \"background-color:#778700\", value: \"<span class=\\\"formatted\\\" title=\\\"\\\"><span class=\\\"numbers\\\">0.061298</span></span>\"},{ style: \"background-color:#807e00\", value: \"<span class=\\\"formatted\\\" title=\\\"\\\"><span class=\\\"numbers\\\">-0.010504</span></span>\"},{ style: \"background-color:#758900\", value: \"<span class=\\\"formatted\\\" title=\\\"\\\"><span class=\\\"numbers\\\">0.076470</span></span>\"},{ style: \"background-color:#7c8200\", value: \"<span class=\\\"formatted\\\" title=\\\"\\\"><span class=\\\"numbers\\\">0.022026</span></span>\"},{ style: \"background-color:#619d00\", value: \"<span class=\\\"formatted\\\" title=\\\"\\\"><span class=\\\"numbers\\\">0.234937</span></span>\"},{ style: \"background-color:#a05e00\", value: \"<span class=\\\"formatted\\\" title=\\\"\\\"><span class=\\\"numbers\\\">-0.260987</span></span>\"},{ style: \"background-color:#996500\", value: \"<span class=\\\"formatted\\\" title=\\\"\\\"><span class=\\\"numbers\\\">-0.202288</span></span>\"},{ style: \"background-color:#b14d00\", value: \"<span class=\\\"formatted\\\" title=\\\"\\\"><span class=\\\"numbers\\\">-0.390558</span></span>\"}] }, \n",
       "{ name: \"citric acid\", children: [], rightAlign: true, values: [{ style: \"background-color:#29d500\", value: \"<span class=\\\"formatted\\\" title=\\\"\\\"><span class=\\\"numbers\\\">0.671703</span></span>\"},{ style: \"background-color:#c53900\", value: \"<span class=\\\"formatted\\\" title=\\\"\\\"><span class=\\\"numbers\\\">-0.552496</span></span>\"},{ style: \"background-color:#00ff00\", value: \"<span class=\\\"formatted\\\" title=\\\"\\\"><span class=\\\"numbers\\\">1.000000</span></span>\"},{ style: \"background-color:#6d9100\", value: \"<span class=\\\"formatted\\\" title=\\\"\\\"><span class=\\\"numbers\\\">0.143577</span></span>\"},{ style: \"background-color:#659900\", value: \"<span class=\\\"formatted\\\" title=\\\"\\\"><span class=\\\"numbers\\\">0.203823</span></span>\"},{ style: \"background-color:#877700\", value: \"<span class=\\\"formatted\\\" title=\\\"\\\"><span class=\\\"numbers\\\">-0.060978</span></span>\"},{ style: \"background-color:#7a8400\", value: \"<span class=\\\"formatted\\\" title=\\\"\\\"><span class=\\\"numbers\\\">0.035533</span></span>\"},{ style: \"background-color:#50ae00\", value: \"<span class=\\\"formatted\\\" title=\\\"\\\"><span class=\\\"numbers\\\">0.364947</span></span>\"},{ style: \"background-color:#c43a00\", value: \"<span class=\\\"formatted\\\" title=\\\"\\\"><span class=\\\"numbers\\\">-0.541904</span></span>\"},{ style: \"background-color:#57a700\", value: \"<span class=\\\"formatted\\\" title=\\\"\\\"><span class=\\\"numbers\\\">0.312770</span></span>\"},{ style: \"background-color:#718d00\", value: \"<span class=\\\"formatted\\\" title=\\\"\\\"><span class=\\\"numbers\\\">0.109903</span></span>\"},{ style: \"background-color:#629c00\", value: \"<span class=\\\"formatted\\\" title=\\\"\\\"><span class=\\\"numbers\\\">0.226373</span></span>\"}] }, \n",
       "{ name: \"residual sugar\", children: [], rightAlign: true, values: [{ style: \"background-color:#708e00\", value: \"<span class=\\\"formatted\\\" title=\\\"\\\"><span class=\\\"numbers\\\">0.114777</span></span>\"},{ style: \"background-color:#7f7f00\", value: \"<span class=\\\"formatted\\\" title=\\\"\\\"><span class=\\\"numbers\\\">0.001918</span></span>\"},{ style: \"background-color:#6d9100\", value: \"<span class=\\\"formatted\\\" title=\\\"\\\"><span class=\\\"numbers\\\">0.143577</span></span>\"},{ style: \"background-color:#00ff00\", value: \"<span class=\\\"formatted\\\" title=\\\"\\\"><span class=\\\"numbers\\\">1.000000</span></span>\"},{ style: \"background-color:#788600\", value: \"<span class=\\\"formatted\\\" title=\\\"\\\"><span class=\\\"numbers\\\">0.055610</span></span>\"},{ style: \"background-color:#679700\", value: \"<span class=\\\"formatted\\\" title=\\\"\\\"><span class=\\\"numbers\\\">0.187049</span></span>\"},{ style: \"background-color:#659900\", value: \"<span class=\\\"formatted\\\" title=\\\"\\\"><span class=\\\"numbers\\\">0.203028</span></span>\"},{ style: \"background-color:#52ac00\", value: \"<span class=\\\"formatted\\\" title=\\\"\\\"><span class=\\\"numbers\\\">0.355283</span></span>\"},{ style: \"background-color:#8a7400\", value: \"<span class=\\\"formatted\\\" title=\\\"\\\"><span class=\\\"numbers\\\">-0.085652</span></span>\"},{ style: \"background-color:#7e8000\", value: \"<span class=\\\"formatted\\\" title=\\\"\\\"><span class=\\\"numbers\\\">0.005527</span></span>\"},{ style: \"background-color:#7a8400\", value: \"<span class=\\\"formatted\\\" title=\\\"\\\"><span class=\\\"numbers\\\">0.042075</span></span>\"},{ style: \"background-color:#7d8100\", value: \"<span class=\\\"formatted\\\" title=\\\"\\\"><span class=\\\"numbers\\\">0.013732</span></span>\"}] }, \n",
       "{ name: \"chlorides\", children: [], rightAlign: true, values: [{ style: \"background-color:#738b00\", value: \"<span class=\\\"formatted\\\" title=\\\"\\\"><span class=\\\"numbers\\\">0.093705</span></span>\"},{ style: \"background-color:#778700\", value: \"<span class=\\\"formatted\\\" title=\\\"\\\"><span class=\\\"numbers\\\">0.061298</span></span>\"},{ style: \"background-color:#659900\", value: \"<span class=\\\"formatted\\\" title=\\\"\\\"><span class=\\\"numbers\\\">0.203823</span></span>\"},{ style: \"background-color:#788600\", value: \"<span class=\\\"formatted\\\" title=\\\"\\\"><span class=\\\"numbers\\\">0.055610</span></span>\"},{ style: \"background-color:#00ff00\", value: \"<span class=\\\"formatted\\\" title=\\\"\\\"><span class=\\\"numbers\\\">1.000000</span></span>\"},{ style: \"background-color:#7e8000\", value: \"<span class=\\\"formatted\\\" title=\\\"\\\"><span class=\\\"numbers\\\">0.005562</span></span>\"},{ style: \"background-color:#798500\", value: \"<span class=\\\"formatted\\\" title=\\\"\\\"><span class=\\\"numbers\\\">0.047400</span></span>\"},{ style: \"background-color:#659900\", value: \"<span class=\\\"formatted\\\" title=\\\"\\\"><span class=\\\"numbers\\\">0.200632</span></span>\"},{ style: \"background-color:#a15d00\", value: \"<span class=\\\"formatted\\\" title=\\\"\\\"><span class=\\\"numbers\\\">-0.265026</span></span>\"},{ style: \"background-color:#50ae00\", value: \"<span class=\\\"formatted\\\" title=\\\"\\\"><span class=\\\"numbers\\\">0.371260</span></span>\"},{ style: \"background-color:#9b6300\", value: \"<span class=\\\"formatted\\\" title=\\\"\\\"><span class=\\\"numbers\\\">-0.221141</span></span>\"},{ style: \"background-color:#8f6f00\", value: \"<span class=\\\"formatted\\\" title=\\\"\\\"><span class=\\\"numbers\\\">-0.128907</span></span>\"}] }, \n",
       "{ name: \"free sulfur dioxide\", children: [], rightAlign: true, values: [{ style: \"background-color:#936b00\", value: \"<span class=\\\"formatted\\\" title=\\\"\\\"><span class=\\\"numbers\\\">-0.153794</span></span>\"},{ style: \"background-color:#807e00\", value: \"<span class=\\\"formatted\\\" title=\\\"\\\"><span class=\\\"numbers\\\">-0.010504</span></span>\"},{ style: \"background-color:#877700\", value: \"<span class=\\\"formatted\\\" title=\\\"\\\"><span class=\\\"numbers\\\">-0.060978</span></span>\"},{ style: \"background-color:#679700\", value: \"<span class=\\\"formatted\\\" title=\\\"\\\"><span class=\\\"numbers\\\">0.187049</span></span>\"},{ style: \"background-color:#7e8000\", value: \"<span class=\\\"formatted\\\" title=\\\"\\\"><span class=\\\"numbers\\\">0.005562</span></span>\"},{ style: \"background-color:#00ff00\", value: \"<span class=\\\"formatted\\\" title=\\\"\\\"><span class=\\\"numbers\\\">1.000000</span></span>\"},{ style: \"background-color:#2ad400\", value: \"<span class=\\\"formatted\\\" title=\\\"\\\"><span class=\\\"numbers\\\">0.667666</span></span>\"},{ style: \"background-color:#827c00\", value: \"<span class=\\\"formatted\\\" title=\\\"\\\"><span class=\\\"numbers\\\">-0.021946</span></span>\"},{ style: \"background-color:#768800\", value: \"<span class=\\\"formatted\\\" title=\\\"\\\"><span class=\\\"numbers\\\">0.070377</span></span>\"},{ style: \"background-color:#788600\", value: \"<span class=\\\"formatted\\\" title=\\\"\\\"><span class=\\\"numbers\\\">0.051658</span></span>\"},{ style: \"background-color:#887600\", value: \"<span class=\\\"formatted\\\" title=\\\"\\\"><span class=\\\"numbers\\\">-0.069408</span></span>\"},{ style: \"background-color:#857900\", value: \"<span class=\\\"formatted\\\" title=\\\"\\\"><span class=\\\"numbers\\\">-0.050656</span></span>\"}] }, \n",
       "{ name: \"total sulfur dioxide\", children: [], rightAlign: true, values: [{ style: \"background-color:#8d7100\", value: \"<span class=\\\"formatted\\\" title=\\\"\\\"><span class=\\\"numbers\\\">-0.113181</span></span>\"},{ style: \"background-color:#758900\", value: \"<span class=\\\"formatted\\\" title=\\\"\\\"><span class=\\\"numbers\\\">0.076470</span></span>\"},{ style: \"background-color:#7a8400\", value: \"<span class=\\\"formatted\\\" title=\\\"\\\"><span class=\\\"numbers\\\">0.035533</span></span>\"},{ style: \"background-color:#659900\", value: \"<span class=\\\"formatted\\\" title=\\\"\\\"><span class=\\\"numbers\\\">0.203028</span></span>\"},{ style: \"background-color:#798500\", value: \"<span class=\\\"formatted\\\" title=\\\"\\\"><span class=\\\"numbers\\\">0.047400</span></span>\"},{ style: \"background-color:#2ad400\", value: \"<span class=\\\"formatted\\\" title=\\\"\\\"><span class=\\\"numbers\\\">0.667666</span></span>\"},{ style: \"background-color:#00ff00\", value: \"<span class=\\\"formatted\\\" title=\\\"\\\"><span class=\\\"numbers\\\">1.000000</span></span>\"},{ style: \"background-color:#768800\", value: \"<span class=\\\"formatted\\\" title=\\\"\\\"><span class=\\\"numbers\\\">0.071269</span></span>\"},{ style: \"background-color:#877700\", value: \"<span class=\\\"formatted\\\" title=\\\"\\\"><span class=\\\"numbers\\\">-0.066495</span></span>\"},{ style: \"background-color:#7a8400\", value: \"<span class=\\\"formatted\\\" title=\\\"\\\"><span class=\\\"numbers\\\">0.042947</span></span>\"},{ style: \"background-color:#996500\", value: \"<span class=\\\"formatted\\\" title=\\\"\\\"><span class=\\\"numbers\\\">-0.205654</span></span>\"},{ style: \"background-color:#976700\", value: \"<span class=\\\"formatted\\\" title=\\\"\\\"><span class=\\\"numbers\\\">-0.185100</span></span>\"}] }, \n",
       "{ name: \"density\", children: [], rightAlign: true, values: [{ style: \"background-color:#2ad400\", value: \"<span class=\\\"formatted\\\" title=\\\"\\\"><span class=\\\"numbers\\\">0.668047</span></span>\"},{ style: \"background-color:#7c8200\", value: \"<span class=\\\"formatted\\\" title=\\\"\\\"><span class=\\\"numbers\\\">0.022026</span></span>\"},{ style: \"background-color:#50ae00\", value: \"<span class=\\\"formatted\\\" title=\\\"\\\"><span class=\\\"numbers\\\">0.364947</span></span>\"},{ style: \"background-color:#52ac00\", value: \"<span class=\\\"formatted\\\" title=\\\"\\\"><span class=\\\"numbers\\\">0.355283</span></span>\"},{ style: \"background-color:#659900\", value: \"<span class=\\\"formatted\\\" title=\\\"\\\"><span class=\\\"numbers\\\">0.200632</span></span>\"},{ style: \"background-color:#827c00\", value: \"<span class=\\\"formatted\\\" title=\\\"\\\"><span class=\\\"numbers\\\">-0.021946</span></span>\"},{ style: \"background-color:#768800\", value: \"<span class=\\\"formatted\\\" title=\\\"\\\"><span class=\\\"numbers\\\">0.071269</span></span>\"},{ style: \"background-color:#00ff00\", value: \"<span class=\\\"formatted\\\" title=\\\"\\\"><span class=\\\"numbers\\\">1.000000</span></span>\"},{ style: \"background-color:#ab5300\", value: \"<span class=\\\"formatted\\\" title=\\\"\\\"><span class=\\\"numbers\\\">-0.341699</span></span>\"},{ style: \"background-color:#6c9200\", value: \"<span class=\\\"formatted\\\" title=\\\"\\\"><span class=\\\"numbers\\\">0.148506</span></span>\"},{ style: \"background-color:#be4000\", value: \"<span class=\\\"formatted\\\" title=\\\"\\\"><span class=\\\"numbers\\\">-0.496180</span></span>\"},{ style: \"background-color:#956900\", value: \"<span class=\\\"formatted\\\" title=\\\"\\\"><span class=\\\"numbers\\\">-0.174919</span></span>\"}] }, \n",
       "{ name: \"pH\", children: [], rightAlign: true, values: [{ style: \"background-color:#d62800\", value: \"<span class=\\\"formatted\\\" title=\\\"\\\"><span class=\\\"numbers\\\">-0.682978</span></span>\"},{ style: \"background-color:#619d00\", value: \"<span class=\\\"formatted\\\" title=\\\"\\\"><span class=\\\"numbers\\\">0.234937</span></span>\"},{ style: \"background-color:#c43a00\", value: \"<span class=\\\"formatted\\\" title=\\\"\\\"><span class=\\\"numbers\\\">-0.541904</span></span>\"},{ style: \"background-color:#8a7400\", value: \"<span class=\\\"formatted\\\" title=\\\"\\\"><span class=\\\"numbers\\\">-0.085652</span></span>\"},{ style: \"background-color:#a15d00\", value: \"<span class=\\\"formatted\\\" title=\\\"\\\"><span class=\\\"numbers\\\">-0.265026</span></span>\"},{ style: \"background-color:#768800\", value: \"<span class=\\\"formatted\\\" title=\\\"\\\"><span class=\\\"numbers\\\">0.070377</span></span>\"},{ style: \"background-color:#877700\", value: \"<span class=\\\"formatted\\\" title=\\\"\\\"><span class=\\\"numbers\\\">-0.066495</span></span>\"},{ style: \"background-color:#ab5300\", value: \"<span class=\\\"formatted\\\" title=\\\"\\\"><span class=\\\"numbers\\\">-0.341699</span></span>\"},{ style: \"background-color:#00ff00\", value: \"<span class=\\\"formatted\\\" title=\\\"\\\"><span class=\\\"numbers\\\">1.000000</span></span>\"},{ style: \"background-color:#986600\", value: \"<span class=\\\"formatted\\\" title=\\\"\\\"><span class=\\\"numbers\\\">-0.196648</span></span>\"},{ style: \"background-color:#659900\", value: \"<span class=\\\"formatted\\\" title=\\\"\\\"><span class=\\\"numbers\\\">0.205633</span></span>\"},{ style: \"background-color:#867800\", value: \"<span class=\\\"formatted\\\" title=\\\"\\\"><span class=\\\"numbers\\\">-0.057731</span></span>\"}] }, \n",
       "{ name: \"sulphates\", children: [], rightAlign: true, values: [{ style: \"background-color:#689600\", value: \"<span class=\\\"formatted\\\" title=\\\"\\\"><span class=\\\"numbers\\\">0.183006</span></span>\"},{ style: \"background-color:#a05e00\", value: \"<span class=\\\"formatted\\\" title=\\\"\\\"><span class=\\\"numbers\\\">-0.260987</span></span>\"},{ style: \"background-color:#57a700\", value: \"<span class=\\\"formatted\\\" title=\\\"\\\"><span class=\\\"numbers\\\">0.312770</span></span>\"},{ style: \"background-color:#7e8000\", value: \"<span class=\\\"formatted\\\" title=\\\"\\\"><span class=\\\"numbers\\\">0.005527</span></span>\"},{ style: \"background-color:#50ae00\", value: \"<span class=\\\"formatted\\\" title=\\\"\\\"><span class=\\\"numbers\\\">0.371260</span></span>\"},{ style: \"background-color:#788600\", value: \"<span class=\\\"formatted\\\" title=\\\"\\\"><span class=\\\"numbers\\\">0.051658</span></span>\"},{ style: \"background-color:#7a8400\", value: \"<span class=\\\"formatted\\\" title=\\\"\\\"><span class=\\\"numbers\\\">0.042947</span></span>\"},{ style: \"background-color:#6c9200\", value: \"<span class=\\\"formatted\\\" title=\\\"\\\"><span class=\\\"numbers\\\">0.148506</span></span>\"},{ style: \"background-color:#986600\", value: \"<span class=\\\"formatted\\\" title=\\\"\\\"><span class=\\\"numbers\\\">-0.196648</span></span>\"},{ style: \"background-color:#00ff00\", value: \"<span class=\\\"formatted\\\" title=\\\"\\\"><span class=\\\"numbers\\\">1.000000</span></span>\"},{ style: \"background-color:#738b00\", value: \"<span class=\\\"formatted\\\" title=\\\"\\\"><span class=\\\"numbers\\\">0.093595</span></span>\"},{ style: \"background-color:#5f9f00\", value: \"<span class=\\\"formatted\\\" title=\\\"\\\"><span class=\\\"numbers\\\">0.251397</span></span>\"}] }, \n",
       "{ name: \"alcohol\", children: [], rightAlign: true, values: [{ style: \"background-color:#877700\", value: \"<span class=\\\"formatted\\\" title=\\\"\\\"><span class=\\\"numbers\\\">-0.061668</span></span>\"},{ style: \"background-color:#996500\", value: \"<span class=\\\"formatted\\\" title=\\\"\\\"><span class=\\\"numbers\\\">-0.202288</span></span>\"},{ style: \"background-color:#718d00\", value: \"<span class=\\\"formatted\\\" title=\\\"\\\"><span class=\\\"numbers\\\">0.109903</span></span>\"},{ style: \"background-color:#7a8400\", value: \"<span class=\\\"formatted\\\" title=\\\"\\\"><span class=\\\"numbers\\\">0.042075</span></span>\"},{ style: \"background-color:#9b6300\", value: \"<span class=\\\"formatted\\\" title=\\\"\\\"><span class=\\\"numbers\\\">-0.221141</span></span>\"},{ style: \"background-color:#887600\", value: \"<span class=\\\"formatted\\\" title=\\\"\\\"><span class=\\\"numbers\\\">-0.069408</span></span>\"},{ style: \"background-color:#996500\", value: \"<span class=\\\"formatted\\\" title=\\\"\\\"><span class=\\\"numbers\\\">-0.205654</span></span>\"},{ style: \"background-color:#be4000\", value: \"<span class=\\\"formatted\\\" title=\\\"\\\"><span class=\\\"numbers\\\">-0.496180</span></span>\"},{ style: \"background-color:#659900\", value: \"<span class=\\\"formatted\\\" title=\\\"\\\"><span class=\\\"numbers\\\">0.205633</span></span>\"},{ style: \"background-color:#738b00\", value: \"<span class=\\\"formatted\\\" title=\\\"\\\"><span class=\\\"numbers\\\">0.093595</span></span>\"},{ style: \"background-color:#00ff00\", value: \"<span class=\\\"formatted\\\" title=\\\"\\\"><span class=\\\"numbers\\\">1.000000</span></span>\"},{ style: \"background-color:#42bc00\", value: \"<span class=\\\"formatted\\\" title=\\\"\\\"><span class=\\\"numbers\\\">0.476166</span></span>\"}] }, \n",
       "{ name: \"quality\", children: [], rightAlign: true, values: [{ style: \"background-color:#6f8f00\", value: \"<span class=\\\"formatted\\\" title=\\\"\\\"><span class=\\\"numbers\\\">0.124052</span></span>\"},{ style: \"background-color:#b14d00\", value: \"<span class=\\\"formatted\\\" title=\\\"\\\"><span class=\\\"numbers\\\">-0.390558</span></span>\"},{ style: \"background-color:#629c00\", value: \"<span class=\\\"formatted\\\" title=\\\"\\\"><span class=\\\"numbers\\\">0.226373</span></span>\"},{ style: \"background-color:#7d8100\", value: \"<span class=\\\"formatted\\\" title=\\\"\\\"><span class=\\\"numbers\\\">0.013732</span></span>\"},{ style: \"background-color:#8f6f00\", value: \"<span class=\\\"formatted\\\" title=\\\"\\\"><span class=\\\"numbers\\\">-0.128907</span></span>\"},{ style: \"background-color:#857900\", value: \"<span class=\\\"formatted\\\" title=\\\"\\\"><span class=\\\"numbers\\\">-0.050656</span></span>\"},{ style: \"background-color:#976700\", value: \"<span class=\\\"formatted\\\" title=\\\"\\\"><span class=\\\"numbers\\\">-0.185100</span></span>\"},{ style: \"background-color:#956900\", value: \"<span class=\\\"formatted\\\" title=\\\"\\\"><span class=\\\"numbers\\\">-0.174919</span></span>\"},{ style: \"background-color:#867800\", value: \"<span class=\\\"formatted\\\" title=\\\"\\\"><span class=\\\"numbers\\\">-0.057731</span></span>\"},{ style: \"background-color:#5f9f00\", value: \"<span class=\\\"formatted\\\" title=\\\"\\\"><span class=\\\"numbers\\\">0.251397</span></span>\"},{ style: \"background-color:#42bc00\", value: \"<span class=\\\"formatted\\\" title=\\\"\\\"><span class=\\\"numbers\\\">0.476166</span></span>\"},{ style: \"background-color:#00fe00\", value: \"<span class=\\\"formatted\\\" title=\\\"\\\"><span class=\\\"numbers\\\">1.000000</span></span>\"}] }, \n",
       "], id: 1577058319, rootId: 1577058319 } ) });\n",
       "/*-->*/\n",
       "\n",
       "call_DataFrame(function() { DataFrame.renderTable(1577058319) });\n",
       "\n",
       "\n",
       "        </script>\n",
       "        </html>"
      ]
     },
     "execution_count": 39,
     "metadata": {},
     "output_type": "execute_result"
    }
   ],
   "source": [
    "raw_df.corr().format { colsOf<Double>() }.with { linearBg(it, -1.0 to red, 1.0 to green) }"
   ]
  },
  {
   "cell_type": "markdown",
   "metadata": {},
   "source": [
    "Based on the correlation, we can remove some columns, they seem to be insignificant"
   ]
  },
  {
   "cell_type": "code",
   "execution_count": 4,
   "metadata": {},
   "outputs": [],
   "source": [
    "val df = raw_df.remove {`free sulfur dioxide` and `residual sugar` and pH }"
   ]
  },
  {
   "cell_type": "markdown",
   "metadata": {},
   "source": [
    "## Predict wine quality: first approach"
   ]
  },
  {
   "cell_type": "code",
   "execution_count": 5,
   "metadata": {},
   "outputs": [],
   "source": [
    "// Simple converter function between DataFrame and KotlinDL data representations\n",
    "fun <T> DataFrame<T>.toOnHeapDataset(labelColumnName: String): OnHeapDataset {\n",
    "    return OnHeapDataset.create(\n",
    "        dataframe = this,\n",
    "        yColumn = labelColumnName\n",
    "    )\n",
    "}\n",
    "\n",
    "fun OnHeapDataset.Companion.create(\n",
    "    dataframe: DataFrame<Any?>,\n",
    "    yColumn: String\n",
    "): OnHeapDataset {\n",
    "    fun extractX(): Array<FloatArray> =\n",
    "        dataframe.remove(yColumn).rows()\n",
    "            .map { (it.values() as List<Float>).toFloatArray() }.toTypedArray()\n",
    "\n",
    "    fun extractY(): FloatArray =\n",
    "        dataframe.get { yColumn<Float>() }.toList().toFloatArray()\n",
    "\n",
    "    return create(\n",
    "        ::extractX,\n",
    "        ::extractY\n",
    "    )\n",
    "}"
   ]
  },
  {
   "cell_type": "code",
   "execution_count": 6,
   "metadata": {},
   "outputs": [],
   "source": [
    "val (train, test) = df.convert { doubleCols() }.toFloat()\n",
    "        .toOnHeapDataset(labelColumnName = \"quality\")\n",
    "        .split(0.8)"
   ]
  },
  {
   "cell_type": "markdown",
   "metadata": {},
   "source": [
    "Define simple neural network with only 2 dense layers"
   ]
  },
  {
   "cell_type": "code",
   "execution_count": 7,
   "metadata": {},
   "outputs": [],
   "source": [
    "val inputNeurons = train.x[0].size.toLong()\n",
    "\n",
    "val model = Sequential.of(\n",
    "    Input(\n",
    "        inputNeurons\n",
    "    ),\n",
    "    Dense(\n",
    "        outputSize = (inputNeurons * 10).toInt(),\n",
    "        activation = Activations.Tanh,\n",
    "        kernelInitializer = HeNormal(),\n",
    "        biasInitializer = HeNormal()\n",
    "    ),\n",
    "    Dense(\n",
    "        outputSize = (inputNeurons * 10).toInt(),\n",
    "        activation = Activations.Tanh,\n",
    "        kernelInitializer = HeNormal(),\n",
    "        biasInitializer = HeNormal()\n",
    "    ),\n",
    "    Dense(\n",
    "        outputSize = 1,\n",
    "        activation = Activations.Linear,\n",
    "        kernelInitializer = HeNormal(),\n",
    "        biasInitializer = HeNormal()\n",
    "    )\n",
    ")"
   ]
  },
  {
   "cell_type": "code",
   "execution_count": 8,
   "metadata": {},
   "outputs": [],
   "source": [
    "model.compile(optimizer = Adam(), loss = Losses.MSE, metric = Metrics.MAE)"
   ]
  },
  {
   "cell_type": "code",
   "execution_count": 9,
   "metadata": {},
   "outputs": [
    {
     "name": "stdout",
     "output_type": "stream",
     "text": [
      "==============================================================================\n",
      "Model type: Sequential\n",
      "______________________________________________________________________________\n",
      "Layer (type)                           Output Shape              Param #      \n",
      "==============================================================================\n",
      "input_1(Input)                         [None, 8]                 0            \n",
      "______________________________________________________________________________\n",
      "dense_2(Dense)                         [None, 80]                720          \n",
      "______________________________________________________________________________\n",
      "dense_3(Dense)                         [None, 80]                6480         \n",
      "______________________________________________________________________________\n",
      "dense_4(Dense)                         [None, 1]                 81           \n",
      "______________________________________________________________________________\n",
      "==============================================================================\n",
      "Total trainable params: 7281\n",
      "Total frozen params: 0\n",
      "Total params: 7281\n",
      "==============================================================================\n"
     ]
    }
   ],
   "source": [
    "model.printSummary()"
   ]
  },
  {
   "cell_type": "markdown",
   "metadata": {},
   "source": [
    "Train it!"
   ]
  },
  {
   "cell_type": "code",
   "execution_count": 10,
   "metadata": {},
   "outputs": [],
   "source": [
    "val trainHist = model.fit(train, batchSize = 500, epochs=2000)"
   ]
  },
  {
   "cell_type": "code",
   "execution_count": 11,
   "metadata": {},
   "outputs": [
    {
     "data": {
      "text/html": [
       "        <html>\n",
       "        <head>\n",
       "            <style type=\"text/css\">\n",
       "                \n",
       "\n",
       "            </style>\n",
       "        </head>\n",
       "        <body>\n",
       "            <table class=\"dataframe\" id=\"df_1577058306\"/>\n",
       "\n",
       "<p>DataFrame [5 x 5]</p>\n",
       "        </body>\n",
       "        <script>\n",
       "            /*<!--*/\n",
       "call_DataFrame(function() { DataFrame.addTable({ cols: [{ name: \"epochIndex\", children: [], rightAlign: true, values: [\"<span class=\\\"formatted\\\" title=\\\"\\\"><span class=\\\"numbers\\\">1996</span></span>\",\"<span class=\\\"formatted\\\" title=\\\"\\\"><span class=\\\"numbers\\\">1997</span></span>\",\"<span class=\\\"formatted\\\" title=\\\"\\\"><span class=\\\"numbers\\\">1998</span></span>\",\"<span class=\\\"formatted\\\" title=\\\"\\\"><span class=\\\"numbers\\\">1999</span></span>\",\"<span class=\\\"formatted\\\" title=\\\"\\\"><span class=\\\"numbers\\\">2000</span></span>\"] }, \n",
       "{ name: \"lossValue\", children: [], rightAlign: true, values: [\"<span class=\\\"formatted\\\" title=\\\"\\\"><span class=\\\"numbers\\\">0.334613</span></span>\",\"<span class=\\\"formatted\\\" title=\\\"\\\"><span class=\\\"numbers\\\">0.334577</span></span>\",\"<span class=\\\"formatted\\\" title=\\\"\\\"><span class=\\\"numbers\\\">0.334540</span></span>\",\"<span class=\\\"formatted\\\" title=\\\"\\\"><span class=\\\"numbers\\\">0.334504</span></span>\",\"<span class=\\\"formatted\\\" title=\\\"\\\"><span class=\\\"numbers\\\">0.334467</span></span>\"] }, \n",
       "{ name: \"metricValue\", children: [], rightAlign: true, values: [\"<span class=\\\"formatted\\\" title=\\\"\\\"><span class=\\\"numbers\\\">0.450937</span></span>\",\"<span class=\\\"formatted\\\" title=\\\"\\\"><span class=\\\"numbers\\\">0.450906</span></span>\",\"<span class=\\\"formatted\\\" title=\\\"\\\"><span class=\\\"numbers\\\">0.450876</span></span>\",\"<span class=\\\"formatted\\\" title=\\\"\\\"><span class=\\\"numbers\\\">0.450846</span></span>\",\"<span class=\\\"formatted\\\" title=\\\"\\\"><span class=\\\"numbers\\\">0.450815</span></span>\"] }, \n",
       "{ name: \"valLossValue\", children: [], rightAlign: true, values: [\"<span class=\\\"formatted\\\" title=\\\"\\\"><span class=\\\"numbers\\\">NaN</span></span>\",\"<span class=\\\"formatted\\\" title=\\\"\\\"><span class=\\\"numbers\\\">NaN</span></span>\",\"<span class=\\\"formatted\\\" title=\\\"\\\"><span class=\\\"numbers\\\">NaN</span></span>\",\"<span class=\\\"formatted\\\" title=\\\"\\\"><span class=\\\"numbers\\\">NaN</span></span>\",\"<span class=\\\"formatted\\\" title=\\\"\\\"><span class=\\\"numbers\\\">NaN</span></span>\"] }, \n",
       "{ name: \"valMetricValue\", children: [], rightAlign: true, values: [\"<span class=\\\"formatted\\\" title=\\\"\\\"><span class=\\\"numbers\\\">NaN</span></span>\",\"<span class=\\\"formatted\\\" title=\\\"\\\"><span class=\\\"numbers\\\">NaN</span></span>\",\"<span class=\\\"formatted\\\" title=\\\"\\\"><span class=\\\"numbers\\\">NaN</span></span>\",\"<span class=\\\"formatted\\\" title=\\\"\\\"><span class=\\\"numbers\\\">NaN</span></span>\",\"<span class=\\\"formatted\\\" title=\\\"\\\"><span class=\\\"numbers\\\">NaN</span></span>\"] }, \n",
       "], id: 1577058306, rootId: 1577058306 } ) });\n",
       "/*-->*/\n",
       "\n",
       "call_DataFrame(function() { DataFrame.renderTable(1577058306) });\n",
       "\n",
       "\n",
       "        </script>\n",
       "        </html>"
      ]
     },
     "execution_count": 11,
     "metadata": {},
     "output_type": "execute_result"
    }
   ],
   "source": [
    "trainHist.epochHistory.convertToDataFrame().tail()"
   ]
  },
  {
   "cell_type": "markdown",
   "metadata": {},
   "source": [
    "Let's check that our network predicts values more or less correctly:"
   ]
  },
  {
   "cell_type": "code",
   "execution_count": 12,
   "metadata": {},
   "outputs": [
    {
     "data": {
      "text/plain": [
       "5.2457166"
      ]
     },
     "execution_count": 12,
     "metadata": {},
     "output_type": "execute_result"
    }
   ],
   "source": [
    "model.predictSoftly(test.x[9])[0]"
   ]
  },
  {
   "cell_type": "code",
   "execution_count": 13,
   "metadata": {},
   "outputs": [
    {
     "data": {
      "text/plain": [
       "5.0"
      ]
     },
     "execution_count": 13,
     "metadata": {},
     "output_type": "execute_result"
    }
   ],
   "source": [
    "test.y[9]"
   ]
  },
  {
   "cell_type": "markdown",
   "metadata": {},
   "source": [
    "Close the model:"
   ]
  },
  {
   "cell_type": "code",
   "execution_count": 14,
   "metadata": {},
   "outputs": [],
   "source": [
    "model.close()"
   ]
  },
  {
   "cell_type": "markdown",
   "metadata": {},
   "source": [
    "## Predict wine quality: second approach"
   ]
  },
  {
   "cell_type": "code",
   "execution_count": 15,
   "metadata": {},
   "outputs": [],
   "source": [
    "fun <T> trainTestSplit(d: DataFrame<T>, col: String, trainPart: Double): Pair<Pair<DataFrame<T>, DataFrame<T>>, Pair<DataFrame<T>, DataFrame<T>>> {\n",
    "    val n = d.count()\n",
    "    val trainN = ceil(n * trainPart).toInt()\n",
    "\n",
    "    val shuffledInd = (0 until n).shuffled()\n",
    "    val trainInd = shuffledInd.subList(0, trainN)\n",
    "    val testInd = shuffledInd.subList(trainN, n)\n",
    "    \n",
    "    val train = d[trainInd]\n",
    "    val test = d[testInd]\n",
    "    \n",
    "    val trainX = train.select { all().except(cols(col)) }\n",
    "    val trainY = train.select(col)\n",
    "    \n",
    "    val testX = test.select { all().except(cols(col)) }\n",
    "    val testY = test.select(col)\n",
    "    \n",
    "    return (trainX to trainY) to (testX to testY)\n",
    "}"
   ]
  },
  {
   "cell_type": "markdown",
   "metadata": {},
   "source": [
    "Let's create and then train the model as we did before"
   ]
  },
  {
   "cell_type": "code",
   "execution_count": 16,
   "metadata": {},
   "outputs": [],
   "source": [
    "val (trainPair, testPair) = trainTestSplit(df, \"quality\", 0.8)\n",
    "val (trainX, trainY) = trainPair\n",
    "val (testX, testY) = testPair"
   ]
  },
  {
   "cell_type": "code",
   "execution_count": 17,
   "metadata": {},
   "outputs": [],
   "source": [
    "fun <T> DataFrame<T>.toX(): Array<FloatArray> = \n",
    "        merge { colsOf<Number>() }.by { it.map { it.toFloat() }.toFloatArray() }.into(\"X\")\n",
    "        .get { \"X\"<FloatArray>() }.toList().toTypedArray()"
   ]
  },
  {
   "cell_type": "code",
   "execution_count": 18,
   "metadata": {},
   "outputs": [],
   "source": [
    "fun <T> DataFrame<T>.toY() = get { \"quality\"<Int>() }.asIterable().map { it.toFloat() }.toFloatArray()"
   ]
  },
  {
   "cell_type": "code",
   "execution_count": 19,
   "metadata": {},
   "outputs": [],
   "source": [
    "val trainXDL = trainX.toX()\n",
    "val trainYDL = trainY.toY()\n",
    "val testXDL = testX.toX()\n",
    "val testYDL = testY.toY()"
   ]
  },
  {
   "cell_type": "code",
   "execution_count": 20,
   "metadata": {},
   "outputs": [],
   "source": [
    "val trainKotlinDLDataset = OnHeapDataset.create({trainXDL}, {trainYDL})\n",
    "val testKotlinDLDataset = OnHeapDataset.create({testXDL}, {testYDL})"
   ]
  },
  {
   "cell_type": "code",
   "execution_count": 21,
   "metadata": {},
   "outputs": [
    {
     "name": "stdout",
     "output_type": "stream",
     "text": [
      "==============================================================================\n",
      "Model type: Sequential\n",
      "______________________________________________________________________________\n",
      "Layer (type)                           Output Shape              Param #      \n",
      "==============================================================================\n",
      "input_1(Input)                         [None, 8]                 0            \n",
      "______________________________________________________________________________\n",
      "dense_2(Dense)                         [None, 80]                720          \n",
      "______________________________________________________________________________\n",
      "dense_3(Dense)                         [None, 80]                6480         \n",
      "______________________________________________________________________________\n",
      "dense_4(Dense)                         [None, 1]                 81           \n",
      "______________________________________________________________________________\n",
      "==============================================================================\n",
      "Total trainable params: 7281\n",
      "Total frozen params: 0\n",
      "Total params: 7281\n",
      "==============================================================================\n"
     ]
    }
   ],
   "source": [
    "val inputNeurons = train.x[0].size.toLong()\n",
    "\n",
    "val model2 = Sequential.of(\n",
    "    Input(\n",
    "        inputNeurons\n",
    "    ),\n",
    "    Dense(\n",
    "        outputSize = (inputNeurons * 10).toInt(),\n",
    "        activation = Activations.Tanh,\n",
    "        kernelInitializer = HeNormal(),\n",
    "        biasInitializer = HeNormal()\n",
    "    ),\n",
    "    Dense(\n",
    "        outputSize = (inputNeurons * 10).toInt(),\n",
    "        activation = Activations.Tanh,\n",
    "        kernelInitializer = HeNormal(),\n",
    "        biasInitializer = HeNormal()\n",
    "    ),\n",
    "    Dense(\n",
    "        outputSize = 1,\n",
    "        activation = Activations.Linear,\n",
    "        kernelInitializer = HeNormal(),\n",
    "        biasInitializer = HeNormal()\n",
    "    )\n",
    ")\n",
    "model2.compile(optimizer = Adam(), loss = Losses.MSE, metric = Metrics.MAE)\n",
    "model2.printSummary()"
   ]
  },
  {
   "cell_type": "code",
   "execution_count": 22,
   "metadata": {},
   "outputs": [
    {
     "data": {
      "text/html": [
       "        <html>\n",
       "        <head>\n",
       "            <style type=\"text/css\">\n",
       "                \n",
       "\n",
       "            </style>\n",
       "        </head>\n",
       "        <body>\n",
       "            <table class=\"dataframe\" id=\"df_1577058307\"/>\n",
       "\n",
       "<p>DataFrame [5 x 5]</p>\n",
       "        </body>\n",
       "        <script>\n",
       "            /*<!--*/\n",
       "call_DataFrame(function() { DataFrame.addTable({ cols: [{ name: \"epochIndex\", children: [], rightAlign: true, values: [\"<span class=\\\"formatted\\\" title=\\\"\\\"><span class=\\\"numbers\\\">1996</span></span>\",\"<span class=\\\"formatted\\\" title=\\\"\\\"><span class=\\\"numbers\\\">1997</span></span>\",\"<span class=\\\"formatted\\\" title=\\\"\\\"><span class=\\\"numbers\\\">1998</span></span>\",\"<span class=\\\"formatted\\\" title=\\\"\\\"><span class=\\\"numbers\\\">1999</span></span>\",\"<span class=\\\"formatted\\\" title=\\\"\\\"><span class=\\\"numbers\\\">2000</span></span>\"] }, \n",
       "{ name: \"lossValue\", children: [], rightAlign: true, values: [\"<span class=\\\"formatted\\\" title=\\\"\\\"><span class=\\\"numbers\\\">0.334367</span></span>\",\"<span class=\\\"formatted\\\" title=\\\"\\\"><span class=\\\"numbers\\\">0.334330</span></span>\",\"<span class=\\\"formatted\\\" title=\\\"\\\"><span class=\\\"numbers\\\">0.334293</span></span>\",\"<span class=\\\"formatted\\\" title=\\\"\\\"><span class=\\\"numbers\\\">0.334255</span></span>\",\"<span class=\\\"formatted\\\" title=\\\"\\\"><span class=\\\"numbers\\\">0.334218</span></span>\"] }, \n",
       "{ name: \"metricValue\", children: [], rightAlign: true, values: [\"<span class=\\\"formatted\\\" title=\\\"\\\"><span class=\\\"numbers\\\">0.450726</span></span>\",\"<span class=\\\"formatted\\\" title=\\\"\\\"><span class=\\\"numbers\\\">0.450694</span></span>\",\"<span class=\\\"formatted\\\" title=\\\"\\\"><span class=\\\"numbers\\\">0.450662</span></span>\",\"<span class=\\\"formatted\\\" title=\\\"\\\"><span class=\\\"numbers\\\">0.450630</span></span>\",\"<span class=\\\"formatted\\\" title=\\\"\\\"><span class=\\\"numbers\\\">0.450598</span></span>\"] }, \n",
       "{ name: \"valLossValue\", children: [], rightAlign: true, values: [\"<span class=\\\"formatted\\\" title=\\\"\\\"><span class=\\\"numbers\\\">NaN</span></span>\",\"<span class=\\\"formatted\\\" title=\\\"\\\"><span class=\\\"numbers\\\">NaN</span></span>\",\"<span class=\\\"formatted\\\" title=\\\"\\\"><span class=\\\"numbers\\\">NaN</span></span>\",\"<span class=\\\"formatted\\\" title=\\\"\\\"><span class=\\\"numbers\\\">NaN</span></span>\",\"<span class=\\\"formatted\\\" title=\\\"\\\"><span class=\\\"numbers\\\">NaN</span></span>\"] }, \n",
       "{ name: \"valMetricValue\", children: [], rightAlign: true, values: [\"<span class=\\\"formatted\\\" title=\\\"\\\"><span class=\\\"numbers\\\">NaN</span></span>\",\"<span class=\\\"formatted\\\" title=\\\"\\\"><span class=\\\"numbers\\\">NaN</span></span>\",\"<span class=\\\"formatted\\\" title=\\\"\\\"><span class=\\\"numbers\\\">NaN</span></span>\",\"<span class=\\\"formatted\\\" title=\\\"\\\"><span class=\\\"numbers\\\">NaN</span></span>\",\"<span class=\\\"formatted\\\" title=\\\"\\\"><span class=\\\"numbers\\\">NaN</span></span>\"] }, \n",
       "], id: 1577058307, rootId: 1577058307 } ) });\n",
       "/*-->*/\n",
       "\n",
       "call_DataFrame(function() { DataFrame.renderTable(1577058307) });\n",
       "\n",
       "\n",
       "        </script>\n",
       "        </html>"
      ]
     },
     "execution_count": 22,
     "metadata": {},
     "output_type": "execute_result"
    }
   ],
   "source": [
    "val trainHist = model2.fit(train, batchSize = 500, epochs=2000)\n",
    "trainHist.epochHistory.convertToDataFrame().tail()"
   ]
  },
  {
   "cell_type": "code",
   "execution_count": 23,
   "metadata": {},
   "outputs": [
    {
     "data": {
      "text/plain": [
       "4.7300878"
      ]
     },
     "execution_count": 23,
     "metadata": {},
     "output_type": "execute_result"
    }
   ],
   "source": [
    "model2.predictSoftly(testXDL[9])[0]"
   ]
  },
  {
   "cell_type": "code",
   "execution_count": 24,
   "metadata": {},
   "outputs": [
    {
     "data": {
      "text/plain": [
       "5.0"
      ]
     },
     "execution_count": 24,
     "metadata": {},
     "output_type": "execute_result"
    }
   ],
   "source": [
    "testYDL[9]"
   ]
  },
  {
   "cell_type": "markdown",
   "metadata": {},
   "source": [
    "We can also compare predicted and ground truth values to ensure predictions are correct"
   ]
  },
  {
   "cell_type": "code",
   "execution_count": 25,
   "metadata": {},
   "outputs": [],
   "source": [
    "val predicted = testXDL.mapIndexed  { i, _ -> \n",
    "        round(model2.predictSoftly(testXDL[i])[0]).toInt()\n",
    "    }.toColumn(\"predicted\")\n",
    "\n",
    "val ground_truth = testYDL.mapIndexed  { i, _ -> \n",
    "       testYDL[i].toInt()\n",
    "    }.toColumn(\"ground_truth\")\n",
    "\n",
    "val predDf = dataFrameOf(predicted, ground_truth)"
   ]
  },
  {
   "cell_type": "code",
   "execution_count": 26,
   "metadata": {},
   "outputs": [
    {
     "data": {
      "text/html": [
       "        <html>\n",
       "        <head>\n",
       "            <style type=\"text/css\">\n",
       "                \n",
       "\n",
       "            </style>\n",
       "        </head>\n",
       "        <body>\n",
       "            <table class=\"dataframe\" id=\"df_1577058308\"/>\n",
       "\n",
       "<p>DataFrame [5 x 2]</p>\n",
       "        </body>\n",
       "        <script>\n",
       "            /*<!--*/\n",
       "call_DataFrame(function() { DataFrame.addTable({ cols: [{ name: \"predicted\", children: [], rightAlign: true, values: [\"<span class=\\\"formatted\\\" title=\\\"\\\"><span class=\\\"numbers\\\">6</span></span>\",\"<span class=\\\"formatted\\\" title=\\\"\\\"><span class=\\\"numbers\\\">6</span></span>\",\"<span class=\\\"formatted\\\" title=\\\"\\\"><span class=\\\"numbers\\\">6</span></span>\",\"<span class=\\\"formatted\\\" title=\\\"\\\"><span class=\\\"numbers\\\">5</span></span>\",\"<span class=\\\"formatted\\\" title=\\\"\\\"><span class=\\\"numbers\\\">5</span></span>\"] }, \n",
       "{ name: \"ground_truth\", children: [], rightAlign: true, values: [\"<span class=\\\"formatted\\\" title=\\\"\\\"><span class=\\\"numbers\\\">6</span></span>\",\"<span class=\\\"formatted\\\" title=\\\"\\\"><span class=\\\"numbers\\\">5</span></span>\",\"<span class=\\\"formatted\\\" title=\\\"\\\"><span class=\\\"numbers\\\">6</span></span>\",\"<span class=\\\"formatted\\\" title=\\\"\\\"><span class=\\\"numbers\\\">5</span></span>\",\"<span class=\\\"formatted\\\" title=\\\"\\\"><span class=\\\"numbers\\\">5</span></span>\"] }, \n",
       "], id: 1577058308, rootId: 1577058308 } ) });\n",
       "/*-->*/\n",
       "\n",
       "call_DataFrame(function() { DataFrame.renderTable(1577058308) });\n",
       "\n",
       "\n",
       "        </script>\n",
       "        </html>"
      ]
     },
     "execution_count": 26,
     "metadata": {},
     "output_type": "execute_result"
    }
   ],
   "source": [
    "predDf.head()"
   ]
  },
  {
   "cell_type": "code",
   "execution_count": 34,
   "metadata": {},
   "outputs": [
    {
     "data": {
      "text/html": [
       "        <html>\n",
       "        <head>\n",
       "            <style type=\"text/css\">\n",
       "                \n",
       "\n",
       "            </style>\n",
       "        </head>\n",
       "        <body>\n",
       "            <table class=\"dataframe\" id=\"df_1577058316\"/>\n",
       "\n",
       "<p>DataFrame [5 x 5]</p>\n",
       "        </body>\n",
       "        <script>\n",
       "            /*<!--*/\n",
       "call_DataFrame(function() { DataFrame.addTable({ cols: [{ name: \"ground_truth\", children: [], rightAlign: true, values: [\"<span class=\\\"formatted\\\" title=\\\"\\\"><span class=\\\"numbers\\\">4</span></span>\",\"<span class=\\\"formatted\\\" title=\\\"\\\"><span class=\\\"numbers\\\">5</span></span>\",\"<span class=\\\"formatted\\\" title=\\\"\\\"><span class=\\\"numbers\\\">6</span></span>\",\"<span class=\\\"formatted\\\" title=\\\"\\\"><span class=\\\"numbers\\\">7</span></span>\",\"<span class=\\\"formatted\\\" title=\\\"\\\"><span class=\\\"numbers\\\">8</span></span>\"] }, \n",
       "{ name: \"6\", children: [], rightAlign: true, values: [{ style: \"background-color:#32d232\", value: \"<span class=\\\"formatted\\\" title=\\\"\\\"><span class=\\\"numbers\\\">2</span></span>\"},{ style: \"background-color:#32e632\", value: \"<span class=\\\"formatted\\\" title=\\\"\\\"><span class=\\\"numbers\\\">29</span></span>\"},{ style: \"background-color:#32fa32\", value: \"<span class=\\\"formatted\\\" title=\\\"\\\"><span class=\\\"numbers\\\">92</span></span>\"},{ style: \"background-color:#32e632\", value: \"<span class=\\\"formatted\\\" title=\\\"\\\"><span class=\\\"numbers\\\">25</span></span>\"},{ style: \"background-color:#32d232\", value: \"<span class=\\\"formatted\\\" title=\\\"\\\"><span class=\\\"numbers\\\">1</span></span>\"}] }, \n",
       "{ name: \"5\", children: [], rightAlign: true, values: [{ style: \"background-color:#32e632\", value: \"<span class=\\\"formatted\\\" title=\\\"\\\"><span class=\\\"numbers\\\">12</span></span>\"},{ style: \"background-color:#32fa32\", value: \"<span class=\\\"formatted\\\" title=\\\"\\\"><span class=\\\"numbers\\\">97</span></span>\"},{ style: \"background-color:#32e632\", value: \"<span class=\\\"formatted\\\" title=\\\"\\\"><span class=\\\"numbers\\\">36</span></span>\"},{ style: \"background-color:#32d232\", value: \"<span class=\\\"formatted\\\" title=\\\"\\\"><span class=\\\"numbers\\\">1</span></span>\"},{ style: \"background-color:#32be32\", value: \"<span class=\\\"formatted\\\" title=\\\"\\\"><span class=\\\"numbers\\\">0</span></span>\"}] }, \n",
       "{ name: \"7\", children: [], rightAlign: true, values: [{ style: \"background-color:#32be32\", value: \"<span class=\\\"formatted\\\" title=\\\"\\\"><span class=\\\"numbers\\\">0</span></span>\"},{ style: \"background-color:#32d232\", value: \"<span class=\\\"formatted\\\" title=\\\"\\\"><span class=\\\"numbers\\\">0</span></span>\"},{ style: \"background-color:#32e632\", value: \"<span class=\\\"formatted\\\" title=\\\"\\\"><span class=\\\"numbers\\\">6</span></span>\"},{ style: \"background-color:#32fa32\", value: \"<span class=\\\"formatted\\\" title=\\\"\\\"><span class=\\\"numbers\\\">14</span></span>\"},{ style: \"background-color:#32e632\", value: \"<span class=\\\"formatted\\\" title=\\\"\\\"><span class=\\\"numbers\\\">3</span></span>\"}] }, \n",
       "{ name: \"4\", children: [], rightAlign: true, values: [{ style: \"background-color:#32fa32\", value: \"<span class=\\\"formatted\\\" title=\\\"\\\"><span class=\\\"numbers\\\">0</span></span>\"},{ style: \"background-color:#32e632\", value: \"<span class=\\\"formatted\\\" title=\\\"\\\"><span class=\\\"numbers\\\">1</span></span>\"},{ style: \"background-color:#32d232\", value: \"<span class=\\\"formatted\\\" title=\\\"\\\"><span class=\\\"numbers\\\">0</span></span>\"},{ style: \"background-color:#32be32\", value: \"<span class=\\\"formatted\\\" title=\\\"\\\"><span class=\\\"numbers\\\">0</span></span>\"},{ style: \"background-color:#32aa32\", value: \"<span class=\\\"formatted\\\" title=\\\"\\\"><span class=\\\"numbers\\\">0</span></span>\"}] }, \n",
       "], id: 1577058316, rootId: 1577058316 } ) });\n",
       "/*-->*/\n",
       "\n",
       "call_DataFrame(function() { DataFrame.renderTable(1577058316) });\n",
       "\n",
       "\n",
       "        </script>\n",
       "        </html>"
      ]
     },
     "execution_count": 34,
     "metadata": {},
     "output_type": "execute_result"
    }
   ],
   "source": [
    "val inds = List(10){it + 1}\n",
    "val ctab = predDf.groupBy { ground_truth }.pivotCounts(inward = false) { predicted }.sortBy { ground_truth }\n",
    "\n",
    "ctab.format { drop(1) }.perRowCol { row, col ->\n",
    "    val y = col.name().toInt()\n",
    "    val x = row.ground_truth\n",
    "    val k = 1.0 - abs(x - y)/10.0\n",
    "    background(RGBColor(50, (50 + k * 200).toInt().toShort(), 50))\n",
    "}"
   ]
  },
  {
   "cell_type": "code",
   "execution_count": 35,
   "metadata": {},
   "outputs": [],
   "source": [
    "val predDf2 = predDf.add(\"avg_dev\") { abs(predicted - ground_truth) }"
   ]
  },
  {
   "cell_type": "code",
   "execution_count": 36,
   "metadata": {},
   "outputs": [
    {
     "data": {
      "text/html": [
       "        <html>\n",
       "        <head>\n",
       "            <style type=\"text/css\">\n",
       "                \n",
       "\n",
       "            </style>\n",
       "        </head>\n",
       "        <body>\n",
       "            <table class=\"dataframe\" id=\"df_1577058317\"/>\n",
       "\n",
       "<p>DataFrame [1 x 12]</p>\n",
       "        </body>\n",
       "        <script>\n",
       "            /*<!--*/\n",
       "call_DataFrame(function() { DataFrame.addTable({ cols: [{ name: \"name\", children: [], rightAlign: false, values: [\"avg_dev\"] }, \n",
       "{ name: \"type\", children: [], rightAlign: false, values: [\"Int\"] }, \n",
       "{ name: \"count\", children: [], rightAlign: true, values: [\"<span class=\\\"formatted\\\" title=\\\"\\\"><span class=\\\"numbers\\\">319</span></span>\"] }, \n",
       "{ name: \"unique\", children: [], rightAlign: true, values: [\"<span class=\\\"formatted\\\" title=\\\"\\\"><span class=\\\"numbers\\\">3</span></span>\"] }, \n",
       "{ name: \"nulls\", children: [], rightAlign: true, values: [\"<span class=\\\"formatted\\\" title=\\\"\\\"><span class=\\\"numbers\\\">0</span></span>\"] }, \n",
       "{ name: \"top\", children: [], rightAlign: true, values: [\"<span class=\\\"formatted\\\" title=\\\"\\\"><span class=\\\"numbers\\\">0</span></span>\"] }, \n",
       "{ name: \"freq\", children: [], rightAlign: true, values: [\"<span class=\\\"formatted\\\" title=\\\"\\\"><span class=\\\"numbers\\\">203</span></span>\"] }, \n",
       "{ name: \"mean\", children: [], rightAlign: true, values: [\"<span class=\\\"formatted\\\" title=\\\"\\\"><span class=\\\"numbers\\\">0.376176</span></span>\"] }, \n",
       "{ name: \"std\", children: [], rightAlign: true, values: [\"<span class=\\\"formatted\\\" title=\\\"\\\"><span class=\\\"numbers\\\">9.102688</span></span>\"] }, \n",
       "{ name: \"min\", children: [], rightAlign: true, values: [\"<span class=\\\"formatted\\\" title=\\\"\\\"><span class=\\\"numbers\\\">0</span></span>\"] }, \n",
       "{ name: \"median\", children: [], rightAlign: true, values: [\"<span class=\\\"formatted\\\" title=\\\"\\\"><span class=\\\"numbers\\\">0</span></span>\"] }, \n",
       "{ name: \"max\", children: [], rightAlign: true, values: [\"<span class=\\\"formatted\\\" title=\\\"\\\"><span class=\\\"numbers\\\">2</span></span>\"] }, \n",
       "], id: 1577058317, rootId: 1577058317 } ) });\n",
       "/*-->*/\n",
       "\n",
       "call_DataFrame(function() { DataFrame.renderTable(1577058317) });\n",
       "\n",
       "\n",
       "        </script>\n",
       "        </html>"
      ]
     },
     "execution_count": 36,
     "metadata": {},
     "output_type": "execute_result"
    }
   ],
   "source": [
    "predDf2.avg_dev.cast<Double>().describe()"
   ]
  },
  {
   "cell_type": "code",
   "execution_count": 37,
   "metadata": {},
   "outputs": [
    {
     "data": {
      "text/html": [
       "        <html>\n",
       "        <head>\n",
       "            <style type=\"text/css\">\n",
       "                \n",
       "\n",
       "            </style>\n",
       "        </head>\n",
       "        <body>\n",
       "            <table class=\"dataframe\" id=\"df_1577058318\"/>\n",
       "\n",
       "<p>DataRow [3]</p>\n",
       "        </body>\n",
       "        <script>\n",
       "            /*<!--*/\n",
       "call_DataFrame(function() { DataFrame.addTable({ cols: [{ name: \"predicted\", children: [], rightAlign: true, values: [\"<span class=\\\"formatted\\\" title=\\\"\\\"><span class=\\\"numbers\\\">5</span></span>\"] }, \n",
       "{ name: \"ground_truth\", children: [], rightAlign: true, values: [\"<span class=\\\"formatted\\\" title=\\\"\\\"><span class=\\\"numbers\\\">6</span></span>\"] }, \n",
       "{ name: \"avg_dev\", children: [], rightAlign: true, values: [\"<span class=\\\"formatted\\\" title=\\\"\\\"><span class=\\\"numbers\\\">1</span></span>\"] }, \n",
       "], id: 1577058318, rootId: 1577058318 } ) });\n",
       "/*-->*/\n",
       "\n",
       "call_DataFrame(function() { DataFrame.renderTable(1577058318) });\n",
       "\n",
       "\n",
       "        </script>\n",
       "        </html>"
      ]
     },
     "execution_count": 37,
     "metadata": {},
     "output_type": "execute_result"
    }
   ],
   "source": [
    "predDf2.sortBy { avg_dev }[(0.7 * (319 - 1)).toInt()]"
   ]
  },
  {
   "cell_type": "code",
   "execution_count": 38,
   "metadata": {},
   "outputs": [],
   "source": [
    "model2.close()"
   ]
  }
 ],
 "metadata": {
  "kernelspec": {
   "display_name": "Kotlin",
   "language": "kotlin",
   "name": "kotlin"
  },
  "language_info": {
   "codemirror_mode": "text/x-kotlin",
   "file_extension": ".kt",
   "mimetype": "text/x-kotlin",
   "name": "kotlin",
   "nbconvert_exporter": "",
   "pygments_lexer": "kotlin",
   "version": "1.6.20-dev-5432"
  }
 },
 "nbformat": 4,
 "nbformat_minor": 1
}